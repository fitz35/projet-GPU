{
 "cells": [
  {
   "cell_type": "markdown",
   "metadata": {},
   "source": [
    "# Cuda Study\n",
    "\n",
    "need the execution of the file src/compilation.ipynb\n",
    "\n",
    "## definition of the version\n",
    "V1 : not recalculate the metadata if their aren't mutation\n",
    "V2 : recalculate the metadata at once.\n",
    "\n",
    "\n",
    "## get the results\n"
   ]
  },
  {
   "cell_type": "code",
   "execution_count": 1,
   "metadata": {},
   "outputs": [],
   "source": [
    "import os\n",
    "import subprocess\n",
    "\n",
    "import experimentsDef as expDef\n",
    "\n",
    "import matplotlib.pyplot as plt\n",
    "import numpy as np\n",
    "from numpy import genfromtxt\n",
    "\n",
    "import pandas as pd\n",
    "\n",
    "import warnings\n",
    "warnings.filterwarnings('ignore')"
   ]
  },
  {
   "cell_type": "code",
   "execution_count": 5,
   "metadata": {},
   "outputs": [],
   "source": [
    "implementation = expDef.getImplementationDetails()\n",
    "\n",
    "experimentsHandDetails = expDef.getExpDetails()\n",
    "\n",
    "relevantCodeVersion = [\"baseline\", \"CUDAV1\", \"CUDAV2\"]\n",
    "\n",
    "experimentsRelevantDetails = {\n",
    "    \"perDefaultCuda\" : {\n",
    "        \"w\" : 32,\n",
    "        \"h\" : 32,\n",
    "        \"g\" : 5000,\n",
    "        \"m\" : 0.00001,\n",
    "    },\n",
    "    \"chargeGPU\" : {\n",
    "        \"w\" : 128,\n",
    "        \"h\" : 128,\n",
    "        \"g\" : 5000,\n",
    "        \"m\" : 0.00001,\n",
    "    },\n",
    "    \"chargeMoreRateGPU\" : {\n",
    "        \"w\" : 128,\n",
    "        \"h\" : 128,\n",
    "        \"g\" : 5000,\n",
    "        \"m\" : 0.001,\n",
    "    },\n",
    "    \"chargeLessRateGPU\" : {\n",
    "        \"w\" : 128,\n",
    "        \"h\" : 128,\n",
    "        \"g\" : 5000,\n",
    "        \"m\" : 0.000001,\n",
    "    }\n",
    "}\n",
    "\n",
    "columnsCSV = [\"Gen\",\"Resource\",\"Stamp\",\"TimeStamp_Start\",\"TimeStamp_End\",\"Duration\",\"Indiv_id\", \"exec\", \"w\", \"h\", \"g\", \"mutation_rate\", \"versionCode\", \"versionExp\"]\n"
   ]
  },
  {
   "cell_type": "code",
   "execution_count": 6,
   "metadata": {},
   "outputs": [],
   "source": [
    "aggregate = pd.DataFrame(data=None, index=None, columns=columnsCSV)\n",
    "workDir = os.getcwd()\n",
    "\n",
    "for version in relevantCodeVersion:\n",
    "    for exp in experimentsRelevantDetails:\n",
    "        path = os.path.join(workDir, \"simulations\", version, exp, \"trace.csv\")\n",
    "        data = pd.read_csv(path, sep=',')\n",
    "        data[\"exec\"] = \"nameCPU\"\n",
    "        data[\"w\"] = experimentsRelevantDetails[exp][\"w\"]\n",
    "        data[\"h\"] = experimentsRelevantDetails[exp][\"h\"]\n",
    "        data[\"g\"] = experimentsRelevantDetails[exp][\"g\"]\n",
    "        data[\"mutation_rate\"] = experimentsRelevantDetails[exp][\"m\"]\n",
    "        data[\"versionCode\"] = version\n",
    "        data[\"versionExp\"] = exp\n",
    "        aggregate = aggregate.append(data, ignore_index=True)\n"
   ]
  },
  {
   "cell_type": "markdown",
   "metadata": {},
   "source": [
    "## compare the results"
   ]
  },
  {
   "cell_type": "code",
   "execution_count": 7,
   "metadata": {},
   "outputs": [
    {
     "name": "stdout",
     "output_type": "stream",
     "text": [
      "   versionCode         versionExp      Duration  mutation_rate\n",
      "0       CUDAV1          chargeGPU  1.980742e+07       0.000010\n",
      "1       CUDAV1  chargeLessRateGPU  1.326312e+07       0.000001\n",
      "2       CUDAV1  chargeMoreRateGPU  1.087049e+08       0.001000\n",
      "3       CUDAV1     perDefaultCuda  4.448774e+06       0.000010\n",
      "4       CUDAV2          chargeGPU  7.641949e+06       0.000010\n",
      "5       CUDAV2  chargeLessRateGPU  5.068220e+06       0.000001\n",
      "6       CUDAV2  chargeMoreRateGPU  5.937282e+07       0.001000\n",
      "7       CUDAV2     perDefaultCuda  1.800791e+06       0.000010\n",
      "8     baseline          chargeGPU  1.013746e+08       0.000010\n",
      "9     baseline  chargeLessRateGPU  1.197790e+08       0.000001\n",
      "10    baseline  chargeMoreRateGPU  1.261957e+08       0.001000\n",
      "11    baseline     perDefaultCuda  9.681058e+06       0.000010\n"
     ]
    }
   ],
   "source": [
    "df = aggregate[aggregate['Stamp'] == \"STEP\"]\n",
    "df[\"Duration\"] = df[\"Duration\"].astype(float)\n",
    "dfExp = df.groupby([\"versionCode\", \"versionExp\"]).mean().reset_index()\n",
    "print(dfExp)"
   ]
  },
  {
   "cell_type": "code",
   "execution_count": 8,
   "metadata": {},
   "outputs": [
    {
     "name": "stdout",
     "output_type": "stream",
     "text": [
      "   versionCode         versionExp      Duration  mutation_rate      ratio\n",
      "0       CUDAV1          chargeGPU  1.980742e+07       0.000010   5.118014\n",
      "1       CUDAV1  chargeLessRateGPU  1.326312e+07       0.000001   9.030986\n",
      "2       CUDAV1  chargeMoreRateGPU  1.087049e+08       0.001000   1.160901\n",
      "3       CUDAV1     perDefaultCuda  4.448774e+06       0.000010   2.176118\n",
      "4       CUDAV2          chargeGPU  7.641949e+06       0.000010  13.265548\n",
      "5       CUDAV2  chargeLessRateGPU  5.068220e+06       0.000001  23.633349\n",
      "6       CUDAV2  chargeMoreRateGPU  5.937282e+07       0.001000   2.125478\n",
      "7       CUDAV2     perDefaultCuda  1.800791e+06       0.000010   5.376003\n",
      "8     baseline          chargeGPU  1.013746e+08       0.000010   1.000000\n",
      "9     baseline  chargeLessRateGPU  1.197790e+08       0.000001   1.000000\n",
      "10    baseline  chargeMoreRateGPU  1.261957e+08       0.001000   1.000000\n",
      "11    baseline     perDefaultCuda  9.681058e+06       0.000010   1.000000\n"
     ]
    }
   ],
   "source": [
    "# get the ratio with baseline for each experiment\n",
    "\n",
    "def getDurationRef(df, versionExp):\n",
    "    dfIn = df[(df[\"versionExp\"] == versionExp) & (df[\"versionCode\"] == \"baseline\")]\n",
    "    return dfIn[\"Duration\"].values[0]\n",
    "    \n",
    "\n",
    "dfExp[\"ratio\"] = dfExp.apply(lambda row : getDurationRef(dfExp, row[\"versionExp\"])/row[\"Duration\"], axis=1)\n",
    "\n",
    "print(dfExp)"
   ]
  },
  {
   "cell_type": "markdown",
   "metadata": {},
   "source": [
    "On peux voir qu'on a gagné (V2 est 4 fois plus rapide que le code de base) en temps d'execution, et plus on augmente le taux de mutation, plus on gagne en temps d'execution."
   ]
  }
 ],
 "metadata": {
  "kernelspec": {
   "display_name": "Python 3.10.8 ('cours-gpu')",
   "language": "python",
   "name": "python3"
  },
  "language_info": {
   "codemirror_mode": {
    "name": "ipython",
    "version": 3
   },
   "file_extension": ".py",
   "mimetype": "text/x-python",
   "name": "python",
   "nbconvert_exporter": "python",
   "pygments_lexer": "ipython3",
   "version": "3.10.8"
  },
  "orig_nbformat": 4,
  "vscode": {
   "interpreter": {
    "hash": "5483ac52daa1d7fb05ba58d7135f6f1d6003b1427d416c975ca2fae45b76b887"
   }
  }
 },
 "nbformat": 4,
 "nbformat_minor": 2
}
