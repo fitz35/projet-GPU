{
 "cells": [
  {
   "cell_type": "markdown",
   "metadata": {},
   "source": [
    "# Build et création des dossiers/fichiers nécessaire"
   ]
  },
  {
   "cell_type": "code",
   "execution_count": 1,
   "metadata": {},
   "outputs": [],
   "source": [
    "import os\n",
    "import subprocess"
   ]
  },
  {
   "cell_type": "markdown",
   "metadata": {},
   "source": [
    "## défénition des différents executables et expériences"
   ]
  },
  {
   "cell_type": "code",
   "execution_count": 2,
   "metadata": {},
   "outputs": [],
   "source": [
    "implementation = {\n",
    "    \"baseline\" : {\n",
    "        \"folder\" : \"micro-aevol2\",\n",
    "        \"nameCuda\" : \"micro_aevol_gpu\",\n",
    "        \"nameCpu\" : \"micro_aevol_cpu\",\n",
    "    }\n",
    "}\n",
    "\n",
    "experimentsDetails = {\n",
    "    # base project\n",
    "    \"baseline\" : {\n",
    "        \"perDefaultCuda\" : {\n",
    "            \"executable\" : \"nameCuda\",\n",
    "            \"arg\" : [\n",
    "                \n",
    "            ]\n",
    "        },\n",
    "\n",
    "        \"CudaWandH64\" : {\n",
    "            \"executable\" : \"nameCuda\",\n",
    "            \"arg\" : [\n",
    "                \"-w\", \"64\",\n",
    "                \"-h\", \"64\"\n",
    "            ]\n",
    "        },\n",
    "\n",
    "        \"perDefaultCPU\" : {\n",
    "            \"executable\" : \"nameCpu\",\n",
    "            \"arg\" : [\n",
    "                \n",
    "            ]\n",
    "        }\n",
    "    }\n",
    "}"
   ]
  },
  {
   "cell_type": "markdown",
   "metadata": {},
   "source": [
    "## build des executables"
   ]
  },
  {
   "cell_type": "code",
   "execution_count": 27,
   "metadata": {},
   "outputs": [
    {
     "name": "stdout",
     "output_type": "stream",
     "text": [
      "-- The C compiler identification is GNU 9.4.0\n",
      "-- The CXX compiler identification is GNU 9.4.0\n",
      "-- Check for working C compiler: /usr/bin/cc\n",
      "-- Check for working C compiler: /usr/bin/cc -- works\n",
      "-- Detecting C compiler ABI info\n",
      "-- Detecting C compiler ABI info - done\n",
      "-- Detecting C compile features\n",
      "-- Detecting C compile features - done\n",
      "-- Check for working CXX compiler: /usr/bin/c++\n",
      "-- Check for working CXX compiler: /usr/bin/c++ -- works\n",
      "-- Detecting CXX compiler ABI info\n",
      "-- Detecting CXX compiler ABI info - done\n",
      "-- Detecting CXX compile features\n",
      "-- Detecting CXX compile features - done\n",
      "-- Traces are activated\n",
      "-- Looking for pthread.h\n",
      "-- Looking for pthread.h - found\n",
      "-- Performing Test CMAKE_HAVE_LIBC_PTHREAD\n",
      "-- Performing Test CMAKE_HAVE_LIBC_PTHREAD - Failed\n",
      "-- Looking for pthread_create in pthreads\n",
      "-- Looking for pthread_create in pthreads - not found\n",
      "-- Looking for pthread_create in pthread\n",
      "-- Looking for pthread_create in pthread - found\n",
      "-- Found Threads: TRUE  \n",
      "-- Found CUDA: /usr/local/cuda-11.8 (found version \"11.8\") \n",
      "-- Looking for a CUDA compiler\n",
      "-- Looking for a CUDA compiler - /usr/local/cuda-11.8/bin/nvcc\n",
      "-- The CUDA compiler identification is NVIDIA 11.8.89\n",
      "-- Check for working CUDA compiler: /usr/local/cuda-11.8/bin/nvcc\n",
      "-- Check for working CUDA compiler: /usr/local/cuda-11.8/bin/nvcc -- works\n",
      "-- Detecting CUDA compiler ABI info\n",
      "-- Detecting CUDA compiler ABI info - done\n",
      "-- Found OpenMP_C: -fopenmp (found version \"4.5\") \n",
      "-- Found OpenMP_CXX: -fopenmp (found version \"4.5\") \n",
      "-- Found OpenMP: TRUE (found version \"4.5\")  \n",
      "-- Found ZLIB: /usr/lib/x86_64-linux-gnu/libz.so (found version \"1.2.11\") \n",
      "-- Configuring done\n",
      "-- Generating done\n",
      "-- Build files have been written to: /root/Document/cours/5IF/GPU/projet-GPU/src/aevol/micro-aevol2/build\n",
      "Scanning dependencies of target micro_aevol\n",
      "[  4%] Building CXX object CMakeFiles/micro_aevol.dir/Abstract_ExpManager.cpp.o\n",
      "[  9%] Building CXX object CMakeFiles/micro_aevol.dir/ExpManager.cpp.o\n",
      "[ 14%] Building CXX object CMakeFiles/micro_aevol.dir/AeTime.cpp.o\n",
      "[ 19%] Building CXX object CMakeFiles/micro_aevol.dir/DnaMutator.cpp.o\n",
      "[ 23%] Building CXX object CMakeFiles/micro_aevol.dir/MutationEvent.cpp.o\n",
      "[ 28%] Building CXX object CMakeFiles/micro_aevol.dir/Organism.cpp.o\n",
      "[ 33%] Building CXX object CMakeFiles/micro_aevol.dir/Stats.cpp.o\n",
      "[ 38%] Building CXX object CMakeFiles/micro_aevol.dir/Threefry.cpp.o\n",
      "[ 42%] Building CXX object CMakeFiles/micro_aevol.dir/Dna.cpp.o\n",
      "[ 47%] Linking CXX static library libmicro_aevol.a\n",
      "[ 47%] Built target micro_aevol\n",
      "Scanning dependencies of target cuda_micro_aevol\n",
      "[ 52%] Building CUDA object cuda/CMakeFiles/cuda_micro_aevol.dir/cuExpManager.cu.o\n",
      "[ 57%] Building CUDA object cuda/CMakeFiles/cuda_micro_aevol.dir/cuIndividual.cu.o\n",
      "[ 61%] Building CUDA object cuda/CMakeFiles/cuda_micro_aevol.dir/cuProtein.cu.o\n",
      "[ 66%] Building CUDA object cuda/CMakeFiles/cuda_micro_aevol.dir/misc_functions.cu.o\n",
      "[ 71%] Building CUDA object cuda/CMakeFiles/cuda_micro_aevol.dir/RandService.cu.o\n",
      "[ 76%] Linking CUDA static library libcuda_micro_aevol.a\n",
      "[ 76%] Built target cuda_micro_aevol\n",
      "Scanning dependencies of target micro_aevol_gpu\n",
      "[ 80%] Building CXX object CMakeFiles/micro_aevol_gpu.dir/main.cpp.o\n",
      "[ 85%] Linking CUDA device code CMakeFiles/micro_aevol_gpu.dir/cmake_device_link.o\n",
      "[ 90%] Linking CXX executable micro_aevol_gpu\n",
      "[ 90%] Built target micro_aevol_gpu\n",
      "Scanning dependencies of target micro_aevol_cpu\n",
      "[ 95%] Building CXX object CMakeFiles/micro_aevol_cpu.dir/main.cpp.o\n",
      "[100%] Linking CXX executable micro_aevol_cpu\n",
      "[100%] Built target micro_aevol_cpu\n"
     ]
    }
   ],
   "source": [
    "for exec in implementation.keys():\n",
    "    # create the folder forthe build\n",
    "    pathBuild = os.path.join(\"aevol\", implementation[exec][\"folder\"], \"build\")\n",
    "    if not os.path.exists(pathBuild):\n",
    "        os.makedirs(pathBuild)\n",
    "    else:\n",
    "        # clean the folder\n",
    "        subprocess.run([\"rm\", \"-rf\", pathBuild])\n",
    "        os.makedirs(pathBuild)\n",
    "    # build the executable\n",
    "    subprocess.run([\"cmake\", \"..\", \"-DUSE_CUDA=on\", \"-DDO_TRACES=on\", \"-DUSE_OMP=on\"], cwd=pathBuild)\n",
    "    subprocess.run([\"make\"], cwd=pathBuild)\n"
   ]
  },
  {
   "cell_type": "markdown",
   "metadata": {},
   "source": [
    "## execution des expériences"
   ]
  },
  {
   "cell_type": "code",
   "execution_count": 25,
   "metadata": {},
   "outputs": [],
   "source": [
    "def execExp(nameExec, exp):\n",
    "    workDir = os.getcwd()\n",
    "    print(\"Experiment : \" + exec + \" - \" + exp)\n",
    "    pathBuild = os.path.join(workDir, \"aevol\", implementation[exec][\"folder\"], \"build\")\n",
    "    pathResults = os.path.join(workDir, \"simulations\", exec, exp)\n",
    "    nameExec = implementation[exec][experimentsDetails[exec][exp][\"executable\"]]\n",
    "\n",
    "    if len(os.listdir(pathResults)) == 0:\n",
    "        subprocess.run([os.path.join(pathBuild, nameExec), *experimentsDetails[exec][exp][\"arg\"]], cwd=pathResults, stdout=subprocess.DEVNULL, stderr=subprocess.DEVNULL)"
   ]
  },
  {
   "cell_type": "code",
   "execution_count": null,
   "metadata": {},
   "outputs": [],
   "source": []
  },
  {
   "cell_type": "code",
   "execution_count": 28,
   "metadata": {},
   "outputs": [
    {
     "name": "stdout",
     "output_type": "stream",
     "text": [
      "Experiment : baseline - perDefaultCuda\n",
      "Experiment : baseline - CudaWandH64\n",
      "Experiment : baseline - perDefaultCPU\n"
     ]
    }
   ],
   "source": [
    "workDir = os.getcwd()\n",
    "# creation of the folder for the results\n",
    "for exec in implementation.keys():\n",
    "    # create the folder for the results\n",
    "    pathExperiment = os.path.join(workDir, \"simulations\", exec)\n",
    "    if not os.path.exists(pathExperiment):\n",
    "        os.makedirs(pathExperiment)\n",
    "\n",
    "    for folder in experimentsDetails[exec].keys():\n",
    "        pathResults = os.path.join(pathExperiment, folder)\n",
    "        if not os.path.exists(pathResults):\n",
    "            os.makedirs(pathResults)\n",
    "\n",
    "# execution of the experiments\n",
    "for exec in implementation:\n",
    "    for exp in experimentsDetails[exec].keys():\n",
    "        execExp(exec, exp)"
   ]
  }
 ],
 "metadata": {
  "kernelspec": {
   "display_name": "Python 3.10.6 ('coursGPU')",
   "language": "python",
   "name": "python3"
  },
  "language_info": {
   "codemirror_mode": {
    "name": "ipython",
    "version": 3
   },
   "file_extension": ".py",
   "mimetype": "text/x-python",
   "name": "python",
   "nbconvert_exporter": "python",
   "pygments_lexer": "ipython3",
   "version": "3.10.6"
  },
  "orig_nbformat": 4,
  "vscode": {
   "interpreter": {
    "hash": "4950eafe7413facb109ef55a120a7b950e9b3770fa523e77e9b46305913f9ee9"
   }
  }
 },
 "nbformat": 4,
 "nbformat_minor": 2
}
