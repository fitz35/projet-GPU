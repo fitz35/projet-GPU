{
 "cells": [
  {
   "cell_type": "markdown",
   "metadata": {},
   "source": [
    "# baseline study\n",
    "\n",
    "need the execution of the file src/compilation.ipynb\n",
    "\n",
    "## aggregate the results"
   ]
  }
 ],
 "metadata": {
  "kernelspec": {
   "display_name": "Python 3.10.6 ('coursGPU')",
   "language": "python",
   "name": "python3"
  },
  "language_info": {
   "codemirror_mode": {
    "name": "ipython",
    "version": 3
   },
   "file_extension": ".py",
   "mimetype": "text/x-python",
   "name": "python",
   "nbconvert_exporter": "python",
   "pygments_lexer": "ipython3",
   "version": "3.10.6"
  },
  "orig_nbformat": 4,
  "vscode": {
   "interpreter": {
    "hash": "4950eafe7413facb109ef55a120a7b950e9b3770fa523e77e9b46305913f9ee9"
   }
  }
 },
 "nbformat": 4,
 "nbformat_minor": 2
}
