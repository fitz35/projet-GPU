{
 "cells": [
  {
   "cell_type": "markdown",
   "metadata": {},
   "source": [
    "# Open MP Study\n",
    "\n",
    "need the execution of the file src/compilation.ipynb\n",
    "\n",
    "## get the results\n"
   ]
  },
  {
   "cell_type": "code",
   "execution_count": 4,
   "metadata": {},
   "outputs": [],
   "source": [
    "import os\n",
    "import subprocess\n",
    "\n",
    "import experimentsDef as expDef\n",
    "\n",
    "import matplotlib.pyplot as plt\n",
    "import numpy as np\n",
    "from numpy import genfromtxt\n",
    "\n",
    "import pandas as pd\n",
    "\n",
    "import warnings\n",
    "warnings.filterwarnings('ignore')"
   ]
  },
  {
   "cell_type": "code",
   "execution_count": 6,
   "metadata": {},
   "outputs": [],
   "source": [
    "implementation = expDef.getImplementationDetails()\n",
    "\n",
    "experimentsHandDetails = expDef.getExpDetails()\n",
    "\n",
    "relevantCodeVersion = [\"openMPMutationV1\", \"baseline\"]\n",
    "\n",
    "experimentsRelevantDetails = {\n",
    "    \"perDefaultCPU\" : {\n",
    "        \"w\" : 32,\n",
    "        \"h\" : 32,\n",
    "        \"g\" : 5000,\n",
    "        \"m\" : 0.00001,\n",
    "    },\n",
    "    \"chargeCPU\" : {\n",
    "        \"w\" : 128,\n",
    "        \"h\" : 128,\n",
    "        \"g\" : 10000,\n",
    "        \"m\" : 0.00001,\n",
    "    },\n",
    "}\n",
    "\n",
    "columnsCSV = [\"Gen\",\"Resource\",\"Stamp\",\"TimeStamp_Start\",\"TimeStamp_End\",\"Duration\",\"Indiv_id\", \"exec\", \"w\", \"h\", \"g\", \"mutation_rate\", \"versionCode\", \"versionExp\"]\n"
   ]
  },
  {
   "cell_type": "code",
   "execution_count": 8,
   "metadata": {},
   "outputs": [],
   "source": [
    "aggregate = pd.DataFrame(data=None, index=None, columns=columnsCSV)\n",
    "workDir = os.getcwd()\n",
    "\n",
    "for version in relevantCodeVersion:\n",
    "    for exp in experimentsRelevantDetails:\n",
    "        path = os.path.join(workDir, \"simulations\", version, exp, \"trace.csv\")\n",
    "        data = pd.read_csv(path, sep=',')\n",
    "        data[\"exec\"] = \"nameCPU\"\n",
    "        data[\"w\"] = experimentsRelevantDetails[exp][\"w\"]\n",
    "        data[\"h\"] = experimentsRelevantDetails[exp][\"h\"]\n",
    "        data[\"g\"] = experimentsRelevantDetails[exp][\"g\"]\n",
    "        data[\"mutation_rate\"] = experimentsRelevantDetails[exp][\"m\"]\n",
    "        data[\"versionCode\"] = version\n",
    "        data[\"versionExp\"] = exp\n",
    "        aggregate = aggregate.append(data, ignore_index=True)\n"
   ]
  },
  {
   "cell_type": "markdown",
   "metadata": {},
   "source": [
    "## compare the results"
   ]
  },
  {
   "cell_type": "code",
   "execution_count": 14,
   "metadata": {},
   "outputs": [
    {
     "name": "stdout",
     "output_type": "stream",
     "text": [
      "0    56228247.3\n",
      "1     3819182.3\n",
      "2    17510034.8\n",
      "3     2802235.0\n",
      "Name: Duration, dtype: float64\n"
     ]
    }
   ],
   "source": [
    "df = aggregate[aggregate['Stamp'] == \"STEP\"]\n",
    "df[\"Duration\"] = df[\"Duration\"].astype(float)\n",
    "dfExp = df.groupby([\"versionCode\", \"versionExp\"]).mean().reset_index()\n",
    "print(dfExp[\"Duration\"])"
   ]
  }
 ],
 "metadata": {
  "kernelspec": {
   "display_name": "Python 3.10.6 ('coursGPU')",
   "language": "python",
   "name": "python3"
  },
  "language_info": {
   "codemirror_mode": {
    "name": "ipython",
    "version": 3
   },
   "file_extension": ".py",
   "mimetype": "text/x-python",
   "name": "python",
   "nbconvert_exporter": "python",
   "pygments_lexer": "ipython3",
   "version": "3.10.6"
  },
  "orig_nbformat": 4,
  "vscode": {
   "interpreter": {
    "hash": "4950eafe7413facb109ef55a120a7b950e9b3770fa523e77e9b46305913f9ee9"
   }
  }
 },
 "nbformat": 4,
 "nbformat_minor": 2
}
