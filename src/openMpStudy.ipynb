{
 "cells": [
  {
   "cell_type": "markdown",
   "metadata": {},
   "source": [
    "# Open MP Study\n",
    "\n",
    "need the execution of the file src/compilation.ipynb\n",
    "\n",
    "## get the results\n"
   ]
  },
  {
   "cell_type": "code",
   "execution_count": 1,
   "metadata": {},
   "outputs": [],
   "source": [
    "import os\n",
    "import subprocess\n",
    "\n",
    "import experimentsDef as expDef\n",
    "\n",
    "import matplotlib.pyplot as plt\n",
    "import numpy as np\n",
    "from numpy import genfromtxt\n",
    "\n",
    "import pandas as pd\n",
    "\n",
    "import warnings\n",
    "warnings.filterwarnings('ignore')"
   ]
  },
  {
   "cell_type": "code",
   "execution_count": 5,
   "metadata": {},
   "outputs": [],
   "source": [
    "implementation = expDef.getImplementationDetails()\n",
    "\n",
    "experimentsHandDetails = expDef.getExpDetails()\n",
    "\n",
    "relevantCodeVersion = [\"openMPMutationV1\", \"baseline\", \"openMPMutationV2\"]\n",
    "\n",
    "experimentsRelevantDetails = {\n",
    "    \"perDefaultCPU\" : {\n",
    "        \"w\" : 32,\n",
    "        \"h\" : 32,\n",
    "        \"g\" : 5000,\n",
    "        \"m\" : 0.00001,\n",
    "    },\n",
    "    \"chargeCPU\" : {\n",
    "        \"w\" : 128,\n",
    "        \"h\" : 128,\n",
    "        \"g\" : 10000,\n",
    "        \"m\" : 0.00001,\n",
    "    },\n",
    "}\n",
    "\n",
    "columnsCSV = [\"Gen\",\"Resource\",\"Stamp\",\"TimeStamp_Start\",\"TimeStamp_End\",\"Duration\",\"Indiv_id\", \"exec\", \"w\", \"h\", \"g\", \"mutation_rate\", \"versionCode\", \"versionExp\"]\n"
   ]
  },
  {
   "cell_type": "code",
   "execution_count": 6,
   "metadata": {},
   "outputs": [],
   "source": [
    "aggregate = pd.DataFrame(data=None, index=None, columns=columnsCSV)\n",
    "workDir = os.getcwd()\n",
    "\n",
    "for version in relevantCodeVersion:\n",
    "    for exp in experimentsRelevantDetails:\n",
    "        path = os.path.join(workDir, \"simulations\", version, exp, \"trace.csv\")\n",
    "        data = pd.read_csv(path, sep=',')\n",
    "        data[\"exec\"] = \"nameCPU\"\n",
    "        data[\"w\"] = experimentsRelevantDetails[exp][\"w\"]\n",
    "        data[\"h\"] = experimentsRelevantDetails[exp][\"h\"]\n",
    "        data[\"g\"] = experimentsRelevantDetails[exp][\"g\"]\n",
    "        data[\"mutation_rate\"] = experimentsRelevantDetails[exp][\"m\"]\n",
    "        data[\"versionCode\"] = version\n",
    "        data[\"versionExp\"] = exp\n",
    "        aggregate = aggregate.append(data, ignore_index=True)\n"
   ]
  },
  {
   "cell_type": "markdown",
   "metadata": {},
   "source": [
    "## compare the results"
   ]
  },
  {
   "cell_type": "code",
   "execution_count": 7,
   "metadata": {},
   "outputs": [
    {
     "name": "stdout",
     "output_type": "stream",
     "text": [
      "        versionCode     versionExp    Duration  mutation_rate\n",
      "0          baseline      chargeCPU  56228247.3        0.00001\n",
      "1          baseline  perDefaultCPU   3819182.3        0.00001\n",
      "2  openMPMutationV1      chargeCPU  17510034.8        0.00001\n",
      "3  openMPMutationV1  perDefaultCPU   2802235.0        0.00001\n",
      "4  openMPMutationV2      chargeCPU  15351972.5        0.00001\n",
      "5  openMPMutationV2  perDefaultCPU   2101269.8        0.00001\n"
     ]
    }
   ],
   "source": [
    "df = aggregate[aggregate['Stamp'] == \"STEP\"]\n",
    "df[\"Duration\"] = df[\"Duration\"].astype(float)\n",
    "dfExp = df.groupby([\"versionCode\", \"versionExp\"]).mean().reset_index()\n",
    "print(dfExp)"
   ]
  },
  {
   "cell_type": "code",
   "execution_count": 8,
   "metadata": {},
   "outputs": [
    {
     "name": "stdout",
     "output_type": "stream",
     "text": [
      "        versionCode     versionExp    Duration  mutation_rate     ratio\n",
      "0          baseline      chargeCPU  56228247.3        0.00001  1.000000\n",
      "1          baseline  perDefaultCPU   3819182.3        0.00001  1.000000\n",
      "2  openMPMutationV1      chargeCPU  17510034.8        0.00001  3.211201\n",
      "3  openMPMutationV1  perDefaultCPU   2802235.0        0.00001  1.362906\n",
      "4  openMPMutationV2      chargeCPU  15351972.5        0.00001  3.662607\n",
      "5  openMPMutationV2  perDefaultCPU   2101269.8        0.00001  1.817559\n"
     ]
    }
   ],
   "source": [
    "# get the ratio with baseline for each experiment\n",
    "\n",
    "def getRatio(df, versionExp):\n",
    "    dfIn = df[(df[\"versionExp\"] == versionExp) & (df[\"versionCode\"] == \"baseline\")]\n",
    "    return dfIn[\"Duration\"].values[0]\n",
    "    \n",
    "\n",
    "dfExp[\"ratio\"] = dfExp.apply(lambda row : getRatio(dfExp, row[\"versionExp\"])/row[\"Duration\"], axis=1)\n",
    "\n",
    "print(dfExp)"
   ]
  }
 ],
 "metadata": {
  "kernelspec": {
   "display_name": "Python 3.10.6 ('coursGPU')",
   "language": "python",
   "name": "python3"
  },
  "language_info": {
   "codemirror_mode": {
    "name": "ipython",
    "version": 3
   },
   "file_extension": ".py",
   "mimetype": "text/x-python",
   "name": "python",
   "nbconvert_exporter": "python",
   "pygments_lexer": "ipython3",
   "version": "3.10.6"
  },
  "orig_nbformat": 4,
  "vscode": {
   "interpreter": {
    "hash": "4950eafe7413facb109ef55a120a7b950e9b3770fa523e77e9b46305913f9ee9"
   }
  }
 },
 "nbformat": 4,
 "nbformat_minor": 2
}
